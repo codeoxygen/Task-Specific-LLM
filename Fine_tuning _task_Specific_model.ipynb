{
  "nbformat": 4,
  "nbformat_minor": 0,
  "metadata": {
    "colab": {
      "provenance": [],
      "gpuType": "T4"
    },
    "kernelspec": {
      "name": "python3",
      "display_name": "Python 3"
    },
    "language_info": {
      "name": "python"
    },
    "accelerator": "GPU"
  },
  "cells": [
    {
      "cell_type": "code",
      "execution_count": 1,
      "metadata": {
        "colab": {
          "base_uri": "https://localhost:8080/"
        },
        "id": "dAUtQUkrTcW5",
        "outputId": "6cc5e419-a235-4816-f4f0-2bb20d8639de"
      },
      "outputs": [
        {
          "output_type": "stream",
          "name": "stdout",
          "text": [
            "Requirement already satisfied: openai==0.28 in /usr/local/lib/python3.10/dist-packages (0.28.0)\n",
            "Requirement already satisfied: requests>=2.20 in /usr/local/lib/python3.10/dist-packages (from openai==0.28) (2.31.0)\n",
            "Requirement already satisfied: tqdm in /usr/local/lib/python3.10/dist-packages (from openai==0.28) (4.66.1)\n",
            "Requirement already satisfied: aiohttp in /usr/local/lib/python3.10/dist-packages (from openai==0.28) (3.9.1)\n",
            "Requirement already satisfied: charset-normalizer<4,>=2 in /usr/local/lib/python3.10/dist-packages (from requests>=2.20->openai==0.28) (3.3.2)\n",
            "Requirement already satisfied: idna<4,>=2.5 in /usr/local/lib/python3.10/dist-packages (from requests>=2.20->openai==0.28) (3.6)\n",
            "Requirement already satisfied: urllib3<3,>=1.21.1 in /usr/local/lib/python3.10/dist-packages (from requests>=2.20->openai==0.28) (2.0.7)\n",
            "Requirement already satisfied: certifi>=2017.4.17 in /usr/local/lib/python3.10/dist-packages (from requests>=2.20->openai==0.28) (2023.11.17)\n",
            "Requirement already satisfied: attrs>=17.3.0 in /usr/local/lib/python3.10/dist-packages (from aiohttp->openai==0.28) (23.2.0)\n",
            "Requirement already satisfied: multidict<7.0,>=4.5 in /usr/local/lib/python3.10/dist-packages (from aiohttp->openai==0.28) (6.0.4)\n",
            "Requirement already satisfied: yarl<2.0,>=1.0 in /usr/local/lib/python3.10/dist-packages (from aiohttp->openai==0.28) (1.9.4)\n",
            "Requirement already satisfied: frozenlist>=1.1.1 in /usr/local/lib/python3.10/dist-packages (from aiohttp->openai==0.28) (1.4.1)\n",
            "Requirement already satisfied: aiosignal>=1.1.2 in /usr/local/lib/python3.10/dist-packages (from aiohttp->openai==0.28) (1.3.1)\n",
            "Requirement already satisfied: async-timeout<5.0,>=4.0 in /usr/local/lib/python3.10/dist-packages (from aiohttp->openai==0.28) (4.0.3)\n",
            "Requirement already satisfied: tenacity in /usr/local/lib/python3.10/dist-packages (8.2.3)\n"
          ]
        }
      ],
      "source": [
        "!pip install  openai==0.28\n",
        "!pip install tenacity\n"
      ]
    },
    {
      "cell_type": "markdown",
      "source": [
        "**Medical Question-Ansswering bot**\n",
        "\n",
        "Following notebook presents Fine Tuning a task specific model by Generating Example data for the particular task.\n",
        "\n",
        "Task Description :\n",
        "\n",
        "Developing a task-specific chatbot for leveraging the medical domain knowledge to understand and response different medical queries. Because chat-gpt models are trained for geneal data. Fine tuning with a specific domain data will leverage the domain specific-task. Our will be trained to response following keypoints as the medical assistant.\n",
        "\n",
        "\n",
        "*   Syptoms\n",
        "*   diagnoses\n",
        "*   treatments\n",
        "*   medications\n",
        "*   general health advice\n",
        "\n",
        "Steps :\n",
        "\n",
        "\n",
        "1.   Generate example datasets with providing well explained prompt and correctly defined system content\n",
        "\n",
        "2.   Fine-tuning gpt-3.5 model to engaging users to retrieve medical informations\n",
        "\n"
      ],
      "metadata": {
        "id": "5lG_mkBrE9H2"
      }
    },
    {
      "cell_type": "code",
      "source": [
        "import os\n",
        "import openai\n",
        "import random\n",
        "from tenacity import retry, stop_after_attempt, wait_exponential\n",
        "from pprint import pprint\n",
        "\n",
        "openai.api_key = \"\"\n",
        "\n",
        "N_RETRIES = 3\n",
        "TEMPERATURE = .5\n",
        "\n",
        "\n",
        "@retry(stop=stop_after_attempt(N_RETRIES), wait=wait_exponential(multiplier=1, min=4, max=70))\n",
        "def generate_example(prompt:str , prev_examples:list, temperature : float) -> str:\n",
        "\n",
        "  \"\"\"\n",
        "  Generate single example of prompt/response pair to fine tune the mdel\n",
        "\n",
        "  Parameters :\n",
        "  - prompt (str) : Proper prompt to generate questions/responses\n",
        "  - prev_examples (list) : list of created examples (training data)\n",
        "  - temperature (float) : accept any valur from 0 to 1. define the random of the generated reponses by openai models\n",
        "\n",
        "\n",
        "  Returns :\n",
        "  - str: Generated example in the format of prompt / response\n",
        "  \"\"\"\n",
        "\n",
        "  # defining sytem role\n",
        "  messages=[\n",
        "      {\n",
        "          \"role\": \"system\",\n",
        "          \"content\": f\"You are generating data to train a machine learning model for a Medical Question-Answering System.\\n\\nYour task is to design a system that can intelligently handle user queries related to medical topics. Each example should be in the prompt/response pair format:\\n```\\nprompt\\n-----------\\n$prompt_goes_here\\n-----------\\n\\nresponse\\n-----------\\n$response_goes_here\\n-----------\\n```\\n\\nGenerate one prompt/response pair per turn, gradually increasing the complexity while ensuring diversity.\\n\\nCreate unique, high-quality samples that cover a wide range of medical scenarios. The ultimate goal is to train a system that excels in providing accurate and informative responses to medical queries.\\n\\nHere is the type of Medical Question-Answering System we want to develop:\\n`{prompt}`\"\n",
        "      }\n",
        "  ]\n",
        "\n",
        "  if len(prev_examples) > 5:\n",
        "      # limiting nb of examples to measure the complexity to generate next prompt\n",
        "      if len(prev_examples) > 3:\n",
        "          prev_examples = random.sample(prev_examples, 5)\n",
        "\n",
        "      # append examples to the previous examples\n",
        "      for example in prev_examples:\n",
        "          messages.append({\n",
        "              \"role\": \"assistant\",\n",
        "              \"content\": example\n",
        "          })\n",
        "\n",
        "  #OpenAI Chat Completion API Call\n",
        "  response = openai.ChatCompletion.create(\n",
        "      model=\"gpt-4\",\n",
        "      messages=messages,\n",
        "      temperature=TEMPERATURE,\n",
        "      max_tokens=1000,\n",
        "  )\n",
        "\n",
        "  return response.choices[0].message['content']\n",
        "\n",
        "\n",
        "\n",
        "\n",
        "prompt = \"A model which is a Medical Question-Answering System capable of understanding and responding to various medical queries, covering symptoms, diagnoses, treatments, medications, and general health advice.\"\n",
        "number_of_examples = 100\n",
        "\n",
        "# Generate examples\n",
        "prev_examples = []\n",
        "for i in range(number_of_examples):\n",
        "    print(f'Generating example {i}')\n",
        "    example = generate_example(prompt , prev_examples, TEMPERATURE)\n",
        "    prev_examples.append(example)\n",
        "\n",
        "pprint(prev_examples)"
      ],
      "metadata": {
        "colab": {
          "base_uri": "https://localhost:8080/"
        },
        "id": "4J7YKat71Jfi",
        "outputId": "83109ccd-4d08-42f1-e6da-3d4f62ebb13b"
      },
      "execution_count": 2,
      "outputs": [
        {
          "output_type": "stream",
          "name": "stdout",
          "text": [
            "Generating example 0\n",
            "Generating example 1\n",
            "Generating example 2\n",
            "Generating example 3\n",
            "Generating example 4\n",
            "['prompt\\n'\n",
            " '-----------\\n'\n",
            " 'What are the symptoms of the common cold?\\n'\n",
            " '-----------\\n'\n",
            " '\\n'\n",
            " 'response\\n'\n",
            " '-----------\\n'\n",
            " 'Common symptoms of a cold include a runny or stuffy nose, sore throat, '\n",
            " 'cough, congestion, slight body aches, mild headache, sneezing, low-grade '\n",
            " 'fever, and mild fatigue. The symptoms can vary from person to person and not '\n",
            " 'everyone will experience all of these symptoms.\\n'\n",
            " '-----------',\n",
            " 'prompt\\n'\n",
            " '-----------\\n'\n",
            " 'What is the difference between type 1 and type 2 diabetes?\\n'\n",
            " '-----------\\n'\n",
            " '\\n'\n",
            " 'response\\n'\n",
            " '-----------\\n'\n",
            " 'Type 1 and Type 2 diabetes are both chronic diseases that affect the way '\n",
            " 'your body regulates blood sugar, or glucose. \\n'\n",
            " '\\n'\n",
            " 'Type 1 diabetes is an autoimmune disease. The immune system attacks and '\n",
            " \"destroys cells in the pancreas, where insulin is made. It's unclear what \"\n",
            " 'causes this attack. About 10% of people with diabetes have this type.\\n'\n",
            " '\\n'\n",
            " 'Type 2 diabetes occurs when your body becomes resistant to insulin, and '\n",
            " \"sugar builds up in your blood. It's often a result of physical inactivity, \"\n",
            " 'obesity, and an unhealthy diet. This is the most common type, affecting '\n",
            " 'about 90% of people with diabetes.\\n'\n",
            " '-----------',\n",
            " 'prompt\\n'\n",
            " '-----------\\n'\n",
            " 'What is the function of the liver in the human body?\\n'\n",
            " '-----------\\n'\n",
            " '\\n'\n",
            " 'response\\n'\n",
            " '-----------\\n'\n",
            " 'The liver is a vital organ that performs many essential functions related to '\n",
            " 'digestion, metabolism, immunity, and the storage of nutrients within the '\n",
            " 'body. These functions include:\\n'\n",
            " '\\n'\n",
            " '1. Detoxification: The liver helps to cleanse the blood by eliminating '\n",
            " 'harmful substances such as alcohol and drugs.\\n'\n",
            " '2. Protein synthesis: It produces many of the proteins required by the body '\n",
            " 'for blood clotting and other functions.\\n'\n",
            " '3. Production of bile: Bile produced by the liver helps in the digestion of '\n",
            " 'fats and the absorption of fat-soluble vitamins.\\n'\n",
            " '4. Metabolism of carbohydrates: The liver helps to ensure that the level of '\n",
            " 'sugar in your blood (blood glucose) stays constant.\\n'\n",
            " '5. Storage: The liver stores several vitamins (A, D, E and K) and minerals '\n",
            " '(iron and copper), and releases them into the blood when needed.\\n'\n",
            " '6. Breakdown of red blood cells: The liver breaks down old or damaged red '\n",
            " 'blood cells.\\n'\n",
            " '-----------\\n',\n",
            " 'prompt\\n'\n",
            " '-----------\\n'\n",
            " 'What are the potential side effects of chemotherapy?\\n'\n",
            " '-----------\\n'\n",
            " '\\n'\n",
            " 'response\\n'\n",
            " '-----------\\n'\n",
            " 'Chemotherapy can cause a variety of side effects, which can vary depending '\n",
            " \"on the type and dose of drugs used, as well as the individual patient's \"\n",
            " 'health status. Common side effects include:\\n'\n",
            " '\\n'\n",
            " '1. Fatigue: This is one of the most common side effects and can be due to '\n",
            " 'the treatment itself or a result of anemia.\\n'\n",
            " '2. Hair loss: Some chemotherapy drugs can cause hair loss all over the '\n",
            " 'body.\\n'\n",
            " '3. Nausea and vomiting: These are common but can often be controlled with '\n",
            " 'medication.\\n'\n",
            " '4. Loss of appetite: This can be due to nausea or changes in taste and '\n",
            " 'smell.\\n'\n",
            " '5. Mouth sores: Some drugs can cause sores in the mouth and throat.\\n'\n",
            " '6. Diarrhea or constipation: Changes in bowel habits are common.\\n'\n",
            " \"7. Increased risk of infection: Chemotherapy can reduce the body's ability \"\n",
            " 'to fight infections.\\n'\n",
            " '8. Easy bruising or bleeding: This is due to a drop in blood platelets which '\n",
            " 'assist in clotting.\\n'\n",
            " '9. Changes in cognitive function: Some patients may experience changes in '\n",
            " 'memory and concentration.\\n'\n",
            " '\\n'\n",
            " \"It's important to note that not everyone experiences all of these side \"\n",
            " 'effects and there are often ways to manage them effectively. Always discuss '\n",
            " 'potential side effects with your healthcare provider before starting '\n",
            " 'treatment.\\n'\n",
            " '-----------',\n",
            " 'prompt\\n'\n",
            " '-----------\\n'\n",
            " 'What is the difference between type 1 and type 2 diabetes?\\n'\n",
            " '-----------\\n'\n",
            " '\\n'\n",
            " 'response\\n'\n",
            " '-----------\\n'\n",
            " 'Type 1 and Type 2 diabetes are both chronic diseases that affect the way '\n",
            " 'your body regulates blood sugar, or glucose. However, they have different '\n",
            " 'causes and risk factors.\\n'\n",
            " '\\n'\n",
            " \"1. Type 1 Diabetes: This is an autoimmune condition where the body's immune \"\n",
            " 'system attacks and destroys the insulin-producing cells in the pancreas. As '\n",
            " \"a result, the body produces little or no insulin. It's often diagnosed in \"\n",
            " 'children or young adults, but can occur at any age. The exact cause is '\n",
            " \"unknown, but it's thought to involve a combination of genetic susceptibility \"\n",
            " 'and environmental factors.\\n'\n",
            " '\\n'\n",
            " '2. Type 2 Diabetes: This is the most common form of diabetes and is often '\n",
            " 'related to lifestyle factors. In type 2 diabetes, your body either resists '\n",
            " \"the effects of insulin or doesn't produce enough insulin to maintain a \"\n",
            " \"normal glucose level. It's more common in adults and is often associated \"\n",
            " \"with obesity, lack of physical activity, and poor diet, although it's \"\n",
            " 'increasingly being diagnosed in younger people.\\n'\n",
            " '\\n'\n",
            " 'Both types of diabetes can lead to high blood sugar levels, which over time '\n",
            " 'can cause serious complications like heart disease, stroke, kidney disease, '\n",
            " 'eye problems, and nerve damage.\\n'\n",
            " '-----------']\n"
          ]
        }
      ]
    },
    {
      "cell_type": "code",
      "source": [
        "def generate_system_message(prompt: str) -> str:\n",
        "  \"\"\"\n",
        "  Generate system message for particular model for given user prompt\n",
        "\n",
        "  Parameters :\n",
        "  - prompt (str): user prompt to generate system message\n",
        "\n",
        "  Returns :\n",
        "  - str : generated system message\n",
        "\n",
        "  \"\"\"\n",
        "\n",
        "  #API call to gpt-4 to generate system message\n",
        "  response = openai.ChatCompletion.create(\n",
        "      model=\"gpt-4\",\n",
        "      messages=[\n",
        "        {\n",
        "          \"role\": \"system\",\n",
        "          \"content\": \"You will be given a high-level description of the model we are training, and from that, you will generate a simple system prompt for that model to use. Remember, you are not generating the system message for data generation -- you are generating the system message to use for inference. A good format to follow is `Given $INPUT_DATA, you will $WHAT_THE_MODEL_SHOULD_DO.`.\\n\\nMake it as concise as possible. Include nothing but the system prompt in your response.\\n\\nFor example, never write: `\\\"$SYSTEM_PROMPT_HERE\\\"`.\\n\\nIt should be like: `$SYSTEM_PROMPT_HERE`.\"\n",
        "        },\n",
        "        {\n",
        "            \"role\": \"user\",\n",
        "            \"content\": prompt.strip(),\n",
        "        }\n",
        "      ],\n",
        "      temperature=TEMPERATURE, # control randomness\n",
        "      max_tokens=500, # limit the length of generated system message\n",
        "  )\n",
        "\n",
        "  return response.choices[0].message['content']\n",
        "\n",
        "system_message = generate_system_message(prompt)\n",
        "\n",
        "print(f'The system message is: `{system_message}`. Feel free to re-run this cell if you want a better result.')"
      ],
      "metadata": {
        "colab": {
          "base_uri": "https://localhost:8080/"
        },
        "id": "sF_U-dxk2mrT",
        "outputId": "f4280b1c-c66a-406d-ff73-12258dbc9c3c"
      },
      "execution_count": 3,
      "outputs": [
        {
          "output_type": "stream",
          "name": "stdout",
          "text": [
            "The system message is: `Given your medical query, the system will provide a detailed response, covering potential symptoms, diagnoses, treatments, medications, and general health advice.`. Feel free to re-run this cell if you want a better result.\n"
          ]
        }
      ]
    },
    {
      "cell_type": "markdown",
      "source": [
        "**Following, process the generated examples and convert them into desired formats that allows to fine tune gpt-3.5**"
      ],
      "metadata": {
        "id": "7YjDJx5RUZfM"
      }
    },
    {
      "cell_type": "code",
      "source": [
        "import json\n",
        "import pandas as pd\n",
        "\n",
        "# Initialize lists to store prompts and responses\n",
        "prompts = []\n",
        "responses = []\n",
        "\n",
        "# Parse out prompts and responses from examples\n",
        "for example in prev_examples:\n",
        "  try:\n",
        "    split_example = example.split('----')\n",
        "    prompts.append(split_example[1].strip())\n",
        "    responses.append(split_example[3].strip())\n",
        "  except:\n",
        "    pass\n",
        "\n",
        "# Create a DataFrame\n",
        "df = pd.DataFrame({\n",
        "    'prompt': prompts,\n",
        "    'response': responses\n",
        "})\n",
        "\n",
        "# Remove duplicates\n",
        "df = df.drop_duplicates()\n",
        "\n",
        "print('There are ' + str(len(df)) + ' successfully-generated examples.')\n",
        "\n",
        "# Initialize list to store training examples\n",
        "training_examples = []\n",
        "\n",
        "# Create training examples in the format required for GPT-3.5 fine-tuning\n",
        "for index, row in df.iterrows():\n",
        "    training_example = {\n",
        "        \"messages\": [\n",
        "            {\"role\": \"system\", \"content\": system_message.strip()},\n",
        "            {\"role\": \"user\", \"content\": row['prompt']},\n",
        "            {\"role\": \"assistant\", \"content\": row['response']}\n",
        "        ]\n",
        "    }\n",
        "    training_examples.append(training_example)\n",
        "\n",
        "# Save training examples to a .jsonl file\n",
        "with open('training_smples.jsonl', 'w') as f:\n",
        "    for example in training_examples:\n",
        "        f.write(json.dumps(example) + '\\n')"
      ],
      "metadata": {
        "id": "y_GoRis67Gp0"
      },
      "execution_count": null,
      "outputs": []
    },
    {
      "cell_type": "markdown",
      "source": [
        "Let's uplod the created examples to finetune the chat-GPT (gpt-3.5-turbo) model. The fine-tuned model will be able to interact for user queries speciifed in medical domain to retrieve accurate responses."
      ],
      "metadata": {
        "id": "cJRBirD0V9lb"
      }
    },
    {
      "cell_type": "code",
      "source": [
        "file_id = openai.File.create(\n",
        "  file=open(\"/content/training_examples.jsonl\", \"rb\"),\n",
        "  purpose='fine-tune'\n",
        ").id"
      ],
      "metadata": {
        "id": "Sjfkq32h-fUT"
      },
      "execution_count": 5,
      "outputs": []
    },
    {
      "cell_type": "code",
      "source": [
        "# Intializing the fine tuning job to rtain the model\n",
        "job = openai.FineTuningJob.create(training_file=file_id, model=\"gpt-3.5-turbo\")\n",
        "\n",
        "job_id = job.id"
      ],
      "metadata": {
        "id": "yaANM6rM_fDi"
      },
      "execution_count": 6,
      "outputs": []
    },
    {
      "cell_type": "code",
      "source": [
        "openai.FineTuningJob.list_events(id=job_id, limit=10)"
      ],
      "metadata": {
        "colab": {
          "base_uri": "https://localhost:8080/"
        },
        "id": "ZchD_ZEYQHIz",
        "outputId": "2a1bad7f-b587-4e4e-ebe5-779feca6b5ac"
      },
      "execution_count": 7,
      "outputs": [
        {
          "output_type": "execute_result",
          "data": {
            "text/plain": [
              "<OpenAIObject list at 0x7ff472b59120> JSON: {\n",
              "  \"object\": \"list\",\n",
              "  \"data\": [\n",
              "    {\n",
              "      \"object\": \"fine_tuning.job.event\",\n",
              "      \"id\": \"ftevent-A9rLXakgw2oy3zrqsKHdRxml\",\n",
              "      \"created_at\": 1705511581,\n",
              "      \"level\": \"info\",\n",
              "      \"message\": \"Validating training file: file-JYMc0AThMExZGzbKaDeG2Q3a\",\n",
              "      \"data\": {},\n",
              "      \"type\": \"message\"\n",
              "    },\n",
              "    {\n",
              "      \"object\": \"fine_tuning.job.event\",\n",
              "      \"id\": \"ftevent-fCueX2t1NBiPIepH7WyWptM9\",\n",
              "      \"created_at\": 1705511581,\n",
              "      \"level\": \"info\",\n",
              "      \"message\": \"Created fine-tuning job: ftjob-tMoTcPlv8bznmsuRH9esQVIm\",\n",
              "      \"data\": {},\n",
              "      \"type\": \"message\"\n",
              "    }\n",
              "  ],\n",
              "  \"has_more\": false\n",
              "}"
            ]
          },
          "metadata": {},
          "execution_count": 7
        }
      ]
    },
    {
      "cell_type": "markdown",
      "source": [
        "\n",
        "\n",
        "---\n",
        "\n",
        "\n",
        "According to the above results, we can monitor events related to fine-tuning\n",
        "\n",
        "\n",
        "job\n",
        "\n",
        "\n",
        "1.   Validating training file\n",
        "2.   Created Fine tuning job\n",
        "\n",
        "System is ensuring the validity of the training data also it confirmed the intiating of fine-tune job by giving them ids and created_at parametrs\n"
      ],
      "metadata": {
        "id": "c3Blep90XZ3t"
      }
    },
    {
      "cell_type": "markdown",
      "source": [
        "FOllowing code showcase Inference example.\n",
        "\n",
        "Using the following code the fine-tuned model can be used as a medical assistant to retrieve informations. It has ability to provide information related to symptoms, diagnose, treatments."
      ],
      "metadata": {
        "id": "1HWcGhGZdAZr"
      }
    },
    {
      "cell_type": "code",
      "source": [
        "# retrieve the trained model to chat with\n",
        "model_name_pre_object = openai.FineTuningJob.retrieve(job_id)\n",
        "model_name = model_name_pre_object.fine_tuned_model\n",
        "print(model_name)"
      ],
      "metadata": {
        "id": "U9UksCHRSrac"
      },
      "execution_count": null,
      "outputs": []
    },
    {
      "cell_type": "code",
      "source": [
        "response = openai.ChatCompletion.create(\n",
        "    model=model_name,\n",
        "    messages=[\n",
        "      {\n",
        "        \"role\": \"system\",\n",
        "        \"content\": system_message,\n",
        "      },\n",
        "      {\n",
        "          \"role\": \"user\",\n",
        "          \"content\": df['prompt'].sample().values[0],\n",
        "      }\n",
        "    ],\n",
        ")\n",
        "\n",
        "response.choices[0].message['content']"
      ],
      "metadata": {
        "id": "nXNECh6mfilk"
      },
      "execution_count": null,
      "outputs": []
    }
  ]
}